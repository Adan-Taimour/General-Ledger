{
  "nbformat": 4,
  "nbformat_minor": 0,
  "metadata": {
    "colab": {
      "provenance": [],
      "authorship_tag": "ABX9TyNSUU+HnRVBJUTf45CQJvkr",
      "include_colab_link": true
    },
    "kernelspec": {
      "name": "python3",
      "display_name": "Python 3"
    },
    "language_info": {
      "name": "python"
    }
  },
  "cells": [
    {
      "cell_type": "markdown",
      "metadata": {
        "id": "view-in-github",
        "colab_type": "text"
      },
      "source": [
        "<a href=\"https://colab.research.google.com/github/Adan-Taimour/General-Ledger/blob/main/untitled0.ipynb\" target=\"_parent\"><img src=\"https://colab.research.google.com/assets/colab-badge.svg\" alt=\"Open In Colab\"/></a>"
      ]
    },
    {
      "cell_type": "code",
      "execution_count": null,
      "metadata": {
        "id": "E4m7aMwQVtDE"
      },
      "outputs": [],
      "source": []
    },
    {
      "cell_type": "markdown",
      "source": [],
      "metadata": {
        "id": "PYGTX-_2xDKj"
      }
    },
    {
      "cell_type": "code",
      "source": [],
      "metadata": {
        "id": "kdGW2CiRwtBf"
      },
      "execution_count": null,
      "outputs": []
    },
    {
      "cell_type": "markdown",
      "source": [],
      "metadata": {
        "id": "68CnsxKlwt4w"
      }
    },
    {
      "cell_type": "code",
      "source": [
        "bench start\n",
        "bench new-site print-designer.test\n",
        "bench --site print-designer.test add-to-hosts\n",
        "bench get-app https://github.com/frappe/print_designer\n",
        "bench --site print-designer.test install-app print_designer\n",
        "\n",
        "//Check Installed App List\n",
        "bench --site site1.local list-apps\n",
        "\n",
        "--------------------\n",
        "IF Not Working\n",
        "--------------------\n",
        "\n",
        "bench --site site1.local clear-cache\n",
        "bench --site site1.local clear-website-cache\n",
        "bench --site site1.local reload-doc print_designer\n",
        "bench --site site1.local migrate\n",
        "\n",
        "bench --site site1.local list-apps\n",
        "\n",
        "----------------\n",
        "//If Not Working..........\n",
        "----------------\n",
        "\n",
        "//Uninstall the App:\n",
        "bench --site site1.local uninstall-app print_designer\n",
        "\n",
        "//Reinstall the App:......\n",
        "bench --site site1.local install-app print_designer\n",
        "\n",
        "//Restart Supervisor......\n",
        "sudo supervisorctl restart all\n",
        "\n",
        "\n",
        "\n",
        "Restart Your Computer........."
      ],
      "metadata": {
        "colab": {
          "base_uri": "https://localhost:8080/",
          "height": 106
        },
        "id": "o48lh9t7bx3X",
        "outputId": "ade662b0-2c79-43d9-b0c5-0c638700f47a"
      },
      "execution_count": null,
      "outputs": [
        {
          "output_type": "error",
          "ename": "SyntaxError",
          "evalue": "invalid non-printable character U+00A0 (<ipython-input-2-109138c61fb0>, line 6)",
          "traceback": [
            "\u001b[0;36m  File \u001b[0;32m\"<ipython-input-2-109138c61fb0>\"\u001b[0;36m, line \u001b[0;32m6\u001b[0m\n\u001b[0;31m    \u001b[0m\n\u001b[0m    ^\u001b[0m\n\u001b[0;31mSyntaxError\u001b[0m\u001b[0;31m:\u001b[0m invalid non-printable character U+00A0\n"
          ]
        }
      ]
    },
    {
      "cell_type": "markdown",
      "source": [],
      "metadata": {
        "id": "zfz3BpviwzSA"
      }
    },
    {
      "cell_type": "markdown",
      "source": [],
      "metadata": {
        "id": "KYpBIe9Xw0qW"
      }
    },
    {
      "cell_type": "code",
      "source": [
        "bench start\n",
        "bench new-site print-designer.test\n",
        "bench --site print-designer.test add-to-hosts\n",
        "bench get-app https://github.com/frappe/print_designer\n",
        "bench --site print-designer.test install-app print_designer\n",
        "\n",
        "//Check Installed App List\n",
        "bench --site site1.local list-apps\n",
        "\n",
        "--------------------\n",
        "IF Not Working\n",
        "--------------------\n",
        "\n",
        "bench --site site1.local clear-cache\n",
        "bench --site site1.local clear-website-cache\n",
        "bench --site site1.local reload-doc print_designer\n",
        "bench --site site1.local migrate\n",
        "\n",
        "bench --site site1.local list-apps\n",
        "\n",
        "----------------\n",
        "//If Not Working..........\n",
        "----------------\n",
        "\n",
        "//Uninstall the App:\n",
        "bench --site site1.local uninstall-app print_designer\n",
        "\n",
        "//Reinstall the App:......\n",
        "bench --site site1.local install-app print_designer\n",
        "\n",
        "//Restart Supervisor......\n",
        "sudo supervisorctl restart all\n",
        "\n",
        "\n",
        "\n",
        "Restart Your Computer........."
      ],
      "metadata": {
        "colab": {
          "base_uri": "https://localhost:8080/",
          "height": 106
        },
        "outputId": "ade662b0-2c79-43d9-b0c5-0c638700f47a",
        "id": "PRabJ5cow1VZ"
      },
      "execution_count": null,
      "outputs": [
        {
          "output_type": "error",
          "ename": "SyntaxError",
          "evalue": "invalid non-printable character U+00A0 (<ipython-input-2-109138c61fb0>, line 6)",
          "traceback": [
            "\u001b[0;36m  File \u001b[0;32m\"<ipython-input-2-109138c61fb0>\"\u001b[0;36m, line \u001b[0;32m6\u001b[0m\n\u001b[0;31m    \u001b[0m\n\u001b[0m    ^\u001b[0m\n\u001b[0;31mSyntaxError\u001b[0m\u001b[0;31m:\u001b[0m invalid non-printable character U+00A0\n"
          ]
        }
      ]
    },
    {
      "cell_type": "markdown",
      "source": [],
      "metadata": {
        "id": "CBY-f2E6cD3M"
      }
    }
  ]
}